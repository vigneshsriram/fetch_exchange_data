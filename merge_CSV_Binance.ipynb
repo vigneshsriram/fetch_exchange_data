{
 "cells": [
  {
   "cell_type": "code",
   "execution_count": 6,
   "metadata": {
    "collapsed": true
   },
   "outputs": [],
   "source": [
    "import csv\n",
    "import glob\n",
    "import os\n",
    "import pandas as pd"
   ]
  },
  {
   "cell_type": "code",
   "execution_count": 58,
   "metadata": {},
   "outputs": [
    {
     "name": "stdout",
     "output_type": "stream",
     "text": [
      "ADA BTC\n",
      "Index(['Date', 'Symbol', 'Open', 'High', 'Low', 'Close', 'Volume'], dtype='object')\n",
      "ADX BTC\n",
      "Index(['Date', 'Symbol', 'Open', 'High', 'Low', 'Close', 'Volume'], dtype='object')\n",
      "AST BTC\n",
      "Index(['Date', 'Symbol', 'Open', 'High', 'Low', 'Close', 'Volume'], dtype='object')\n",
      "BTG BTC\n",
      "Index(['Date', 'Symbol', 'Open', 'High', 'Low', 'Close', 'Volume'], dtype='object')\n",
      "DASH BTC\n",
      "Index(['Date', 'Symbol', 'Open', 'High', 'Low', 'Close', 'Volume'], dtype='object')\n",
      "EOS BTC\n",
      "Index(['Date', 'Symbol', 'Open', 'High', 'Low', 'Close', 'Volume'], dtype='object')\n",
      "ETC BTC\n",
      "Index(['Date', 'Symbol', 'Open', 'High', 'Low', 'Close', 'Volume'], dtype='object')\n",
      "ETH BTC\n",
      "Index(['Date', 'Symbol', 'Open', 'High', 'Low', 'Close', 'Volume'], dtype='object')\n",
      "IOTA BTC\n",
      "Index(['Date', 'Symbol', 'Open', 'High', 'Low', 'Close', 'Volume'], dtype='object')\n",
      "LTC BTC\n",
      "Index(['Date', 'Symbol', 'Open', 'High', 'Low', 'Close', 'Volume'], dtype='object')\n",
      "NEO BTC\n",
      "Index(['Date', 'Symbol', 'Open', 'High', 'Low', 'Close', 'Volume'], dtype='object')\n",
      "QLC BTC\n",
      "Index(['Date', 'Symbol', 'Open', 'High', 'Low', 'Close', 'Volume'], dtype='object')\n",
      "SALT BTC\n",
      "Index(['Date', 'Symbol', 'Open', 'High', 'Low', 'Close', 'Volume'], dtype='object')\n",
      "STRAT BTC\n",
      "Index(['Date', 'Symbol', 'Open', 'High', 'Low', 'Close', 'Volume'], dtype='object')\n",
      "VEN BTC\n",
      "Index(['Date', 'Symbol', 'Open', 'High', 'Low', 'Close', 'Volume'], dtype='object')\n",
      "WTC BTC\n",
      "Index(['Date', 'Symbol', 'Open', 'High', 'Low', 'Close', 'Volume'], dtype='object')\n",
      "XLM BTC\n",
      "Index(['Date', 'Symbol', 'Open', 'High', 'Low', 'Close', 'Volume'], dtype='object')\n",
      "XRP BTC\n",
      "Index(['Date', 'Symbol', 'Open', 'High', 'Low', 'Close', 'Volume'], dtype='object')\n"
     ]
    }
   ],
   "source": [
    "path =r'C:\\_Projects\\upTick\\binance\\hourly'\n",
    "allFiles = glob.glob(os.path.join(path, \"*.csv\"))\n",
    "#print (os.listdir(path))\n",
    "#coinName1 = ['ADA', 'ADX', 'AST', 'BCH', 'BTG', 'DASH', 'EOS', 'ETC', 'ETH', 'IOTA', 'LTC', \\\n",
    "#             'NEO', 'QLC', 'SALT', 'STRAT', 'TRX', 'VEN', 'WTC', 'XLM', 'XRP']\n",
    "condi = True\n",
    "for i in os.listdir(path):\n",
    "    a = i.split(\"_\")\n",
    "    #index = 3\n",
    "    #while a[1][:index] not in coinName1 :\n",
    "    #    index +=1\n",
    "    coin1 = a[1].replace(\"BTC\", \"\")\n",
    "    coin2 = \"BTC\"\n",
    "    print(coin1, coin2)\n",
    "    #open the .csv\n",
    "    df = pd.read_csv(os.path.join(path, i), skiprows=[0])\n",
    "    \n",
    "    df.drop(df.columns[len(df.columns)-1], axis=1, inplace=True)\n",
    "    df = df.rename(columns={ df.columns[len(df.columns)-1]: \"Volume\" })\n",
    "    print(df.columns)\n",
    "    \n",
    "    coin1List = [coin1] * len(df) \n",
    "    coin2List = [\"BTC\"] * len(df)\n",
    "    \n",
    "    df[\"Coin1\"] = coin1List\n",
    "    df[\"Coin2\"] = coin2List\n",
    "    \n",
    "    \n",
    "    if condi == True:\n",
    "        bigData = df\n",
    "        condi = False\n",
    "    else:\n",
    "        bigData = bigData.append(df)\n",
    "    \n",
    "bigData.to_csv(os.path.join(path, \"binance.csv\"), sep=',', encoding='utf-8',mode='a')\n",
    "    \n",
    "    \n",
    "#df = pd.concat((pd.read_csv(f) for f in all_files))"
   ]
  },
  {
   "cell_type": "code",
   "execution_count": null,
   "metadata": {
    "collapsed": true
   },
   "outputs": [],
   "source": []
  },
  {
   "cell_type": "code",
   "execution_count": null,
   "metadata": {
    "collapsed": true
   },
   "outputs": [],
   "source": []
  }
 ],
 "metadata": {
  "kernelspec": {
   "display_name": "Python 3",
   "language": "python",
   "name": "python3"
  },
  "language_info": {
   "codemirror_mode": {
    "name": "ipython",
    "version": 3
   },
   "file_extension": ".py",
   "mimetype": "text/x-python",
   "name": "python",
   "nbconvert_exporter": "python",
   "pygments_lexer": "ipython3",
   "version": "3.6.3"
  }
 },
 "nbformat": 4,
 "nbformat_minor": 2
}
